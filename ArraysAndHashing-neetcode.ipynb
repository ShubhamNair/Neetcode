{
  "nbformat": 4,
  "nbformat_minor": 0,
  "metadata": {
    "colab": {
      "provenance": []
    },
    "kernelspec": {
      "name": "python3",
      "display_name": "Python 3"
    },
    "language_info": {
      "name": "python"
    }
  },
  "cells": [
    {
      "cell_type": "markdown",
      "source": [
        "[217. Contains Duplicate](https://leetcode.com/problems/contains-duplicate/description/)"
      ],
      "metadata": {
        "id": "IAarjIS4PHtn"
      }
    },
    {
      "cell_type": "code",
      "execution_count": null,
      "metadata": {
        "id": "TlfjsEFz1Fmy"
      },
      "outputs": [],
      "source": [
        "class Solution(object):\n",
        "    def containsDuplicate(self, nums):\n",
        "        dic={}\n",
        "\n",
        "        if len(nums)==0:\n",
        "            return False\n",
        "        for i in nums:\n",
        "            dic[i]=dic.get(i,0)+1\n",
        "\n",
        "        if max(dic.values())>1:\n",
        "            return True\n",
        "        return False"
      ]
    },
    {
      "cell_type": "code",
      "source": [
        "%%cpp\n",
        "class Solution {\n",
        "public:\n",
        "    bool containsDuplicate(vector<int>& nums) {\n",
        "        unordered_map<int, int> dic;\n",
        "\n",
        "        if (nums.empty()) {\n",
        "            return false;\n",
        "        }\n",
        "\n",
        "        for (int num : nums) {\n",
        "            dic[num]++;\n",
        "        }\n",
        "\n",
        "        for (auto& pair : dic) {\n",
        "            if (pair.second > 1) {\n",
        "                return true;\n",
        "            }\n",
        "        }\n",
        "\n",
        "        return false;\n",
        "    }\n",
        "};"
      ],
      "metadata": {
        "colab": {
          "base_uri": "https://localhost:8080/",
          "height": 126
        },
        "id": "wsFKTGjQU_Rr",
        "outputId": "b2949590-fc54-46f3-c3c5-185d4d11baf8"
      },
      "execution_count": null,
      "outputs": [
        {
          "output_type": "error",
          "ename": "SyntaxError",
          "evalue": "invalid syntax (<ipython-input-1-5de76788c666>, line 1)",
          "traceback": [
            "\u001b[0;36m  File \u001b[0;32m\"<ipython-input-1-5de76788c666>\"\u001b[0;36m, line \u001b[0;32m1\u001b[0m\n\u001b[0;31m    class Solution {\u001b[0m\n\u001b[0m                   ^\u001b[0m\n\u001b[0;31mSyntaxError\u001b[0m\u001b[0;31m:\u001b[0m invalid syntax\n"
          ]
        }
      ]
    },
    {
      "cell_type": "markdown",
      "source": [
        "[242. Valid Anagram\n",
        "](https://leetcode.com/problems/valid-anagram/description/)"
      ],
      "metadata": {
        "id": "uKm-yxP6PTOg"
      }
    },
    {
      "cell_type": "code",
      "source": [
        "class Solution(object):\n",
        "    def isAnagram(self, s, t):\n",
        "        \"\"\"\n",
        "        :type s: str\n",
        "        :type t: str\n",
        "        :rtype: bool\n",
        "        \"\"\"\n",
        "        dic1={}\n",
        "        dic2={}\n",
        "        if len(s)!=len(t):\n",
        "            return False\n",
        "        for i in range(len(s)):\n",
        "            dic1[s[i]]=dic1.get(s[i],0)+1\n",
        "\n",
        "            dic2[t[i]]=dic2.get(t[i],0)+1\n",
        "        if dic1==dic2:\n",
        "            return True\n",
        "        else:\n",
        "            return False\n",
        "\n"
      ],
      "metadata": {
        "id": "LUAbd8ey3P8f"
      },
      "execution_count": null,
      "outputs": []
    },
    {
      "cell_type": "code",
      "source": [
        "#include <unordered_map>\n",
        "#include <string>\n",
        "using namespace std;\n",
        "\n",
        "class Solution {\n",
        "public:\n",
        "    bool isAnagram(string s, string t) {\n",
        "        // If the lengths are not equal, the strings cannot be anagrams\n",
        "        if (s.length() != t.length()) {\n",
        "            return false;\n",
        "        }\n",
        "\n",
        "        // Use an unordered_map to count character frequencies\n",
        "        unordered_map<char, int> charCount;\n",
        "\n",
        "        // Count characters from string `s` and reduce count for `t`\n",
        "        for (int i = 0; i < s.length(); i++) {\n",
        "            charCount[s[i]]++;  // Increment count for characters in `s`\n",
        "            charCount[t[i]]--;  // Decrement count for characters in `t`\n",
        "        }\n",
        "\n",
        "        // Check if all counts in the map are zero\n",
        "        for (auto& count : charCount) {\n",
        "            if (count.second != 0) {\n",
        "                return false;  // If any character count is not zero, not an anagram\n",
        "            }\n",
        "        }\n",
        "\n",
        "        return true;  // All counts are zero, meaning the strings are anagrams\n",
        "    }\n",
        "};\n"
      ],
      "metadata": {
        "id": "rYDWgOFQWNXM"
      },
      "execution_count": null,
      "outputs": []
    },
    {
      "cell_type": "markdown",
      "source": [
        "[1. Two Sum](https://leetcode.com/problems/two-sum/)"
      ],
      "metadata": {
        "id": "QgBEnuvfX7GM"
      }
    },
    {
      "cell_type": "code",
      "source": [
        "class Solution(object):\n",
        "    def twoSum(self, nums, target):\n",
        "        \"\"\"\n",
        "        :type nums: List[int]\n",
        "        :type target: int\n",
        "        :rtype: List[int]\n",
        "        \"\"\"\n",
        "        pair={}\n",
        "        for i,num in enumerate(nums):\n",
        "            if target-num in pair:\n",
        "                return [i,pair[target-num]]\n",
        "            pair[num]=i\n"
      ],
      "metadata": {
        "id": "0aWEWYhUWO-a"
      },
      "execution_count": null,
      "outputs": []
    },
    {
      "cell_type": "code",
      "source": [
        "#include <vector>\n",
        "#include <unordered_map>\n",
        "using namespace std;\n",
        "\n",
        "class Solution {\n",
        "public:\n",
        "    vector<int> twoSum(vector<int>& nums, int target) {\n",
        "        unordered_map<int, int> pair; // Map to store numbers and their indices\n",
        "\n",
        "        for (int i = 0; i < nums.size(); i++) {\n",
        "            int complement = target - nums[i]; // Find the complement for the current number\n",
        "\n",
        "            // Check if the complement exists in the map\n",
        "            if (pair.find(complement) != pair.end()) {\n",
        "                return {i, pair[complement]}; // Return current index and complement's index\n",
        "            }\n",
        "\n",
        "            // Store the current number and its index in the map\n",
        "            pair[nums[i]] = i;\n",
        "        }\n",
        "\n",
        "        return {}; // Return empty vector if no solution is found\n",
        "    }\n",
        "};\n"
      ],
      "metadata": {
        "id": "AZMOXFEDYCcb"
      },
      "execution_count": null,
      "outputs": []
    },
    {
      "cell_type": "markdown",
      "source": [
        "[49. Group Anagrams\n",
        "](https://leetcode.com/problems/group-anagrams/description/)"
      ],
      "metadata": {
        "id": "bQQcFYIjZHji"
      }
    },
    {
      "cell_type": "code",
      "source": [
        "class Solution(object):\n",
        "    def groupAnagrams(self, strs):\n",
        "        \"\"\"\n",
        "        :type strs: List[str]\n",
        "        :rtype: List[List[str]]\n",
        "        \"\"\"\n",
        "        from collections import defaultdict\n",
        "        anagrams = defaultdict(list)\n",
        "\n",
        "        for s in strs:\n",
        "            count = [0] * 26\n",
        "            for char in s:\n",
        "                count[ord(char) - ord('a')] += 1\n",
        "            anagrams[tuple(count)].append(s)\n",
        "\n",
        "        return list(anagrams.values())"
      ],
      "metadata": {
        "id": "rWgrgTKLbkQk"
      },
      "execution_count": null,
      "outputs": []
    },
    {
      "cell_type": "code",
      "source": [
        "#include <vector>\n",
        "#include <string>\n",
        "#include <unordered_map>\n",
        "using namespace std;\n",
        "\n",
        "class Solution {\n",
        "public:\n",
        "    vector<vector<string>> groupAnagrams(vector<string>& strs) {\n",
        "        unordered_map<string, vector<string>> map;\n",
        "\n",
        "        for (auto &s : strs) {\n",
        "            vector<int> freq(26, 0);\n",
        "            for (char c : s) {\n",
        "                freq[c - 'a']++;\n",
        "            }\n",
        "            // Build the key from freq\n",
        "            string key;\n",
        "            for (int count : freq) {\n",
        "                key += to_string(count) + \"#\";\n",
        "            }\n",
        "            map[key].push_back(s);\n",
        "        }\n",
        "\n",
        "        vector<vector<string>> result;\n",
        "        for (auto &entry : map) {\n",
        "            result.push_back(entry.second);\n",
        "        }\n",
        "        return result;\n",
        "    }\n",
        "};"
      ],
      "metadata": {
        "id": "Q_46wGqLeujW"
      },
      "execution_count": null,
      "outputs": []
    },
    {
      "cell_type": "markdown",
      "source": [
        "[347. Top K Frequent Elements](https://leetcode.com/problems/top-k-frequent-elements/description/)"
      ],
      "metadata": {
        "id": "_RsQi32zUzrD"
      }
    },
    {
      "cell_type": "code",
      "source": [
        "class Solution(object):\n",
        "    def topKFrequent(self, nums, k):\n",
        "        \"\"\"\n",
        "        :type nums: List[int]\n",
        "        :type k: int\n",
        "        :rtype: List[int]\n",
        "        \"\"\"\n",
        "        freq={}\n",
        "        for n in nums:\n",
        "            freq[n]=1+freq.get(n,0)\n",
        "\n",
        "        arr=[]\n",
        "        for n,f in freq.items():\n",
        "            arr.append((f,n))\n",
        "        arr.sort(reverse=True)\n",
        "\n",
        "        result=[]\n",
        "        j=0\n",
        "        while len(result)<k:\n",
        "            result.append(arr[j][1])\n",
        "            j+=1\n",
        "        return result"
      ],
      "metadata": {
        "id": "VrqldmjuT0dN"
      },
      "execution_count": null,
      "outputs": []
    },
    {
      "cell_type": "code",
      "source": [
        "#include <vector>\n",
        "#include <unordered_map>\n",
        "#include <algorithm>\n",
        "using namespace std;\n",
        "\n",
        "class Solution {\n",
        "public:\n",
        "    vector<int> topKFrequent(vector<int>& nums, int k) {\n",
        "        // Step 1: Count the frequency of each number\n",
        "        unordered_map<int, int> freq;\n",
        "        for (int num : nums) {\n",
        "            freq[num]++;\n",
        "        }\n",
        "\n",
        "        // Step 2: Store frequency and numbers in a vector of pairs\n",
        "        vector<pair<int, int>> freqArr;\n",
        "        for (auto& entry : freq) {\n",
        "            freqArr.push_back({entry.second, entry.first});\n",
        "        }\n",
        "\n",
        "        // Step 3: Sort the vector of pairs by frequency in descending order\n",
        "        sort(freqArr.begin(), freqArr.end(), [](pair<int, int>& a, pair<int, int>& b) {\n",
        "            return a.first > b.first; // Sort by frequency in descending order\n",
        "        });\n",
        "\n",
        "        // Step 4: Extract the top k frequent elements\n",
        "        vector<int> result;\n",
        "        for (int i = 0; i < k; ++i) {\n",
        "            result.push_back(freqArr[i].second);\n",
        "        }\n",
        "\n",
        "        return result;\n",
        "    }\n",
        "};\n"
      ],
      "metadata": {
        "id": "tm8DuL1ET00M"
      },
      "execution_count": null,
      "outputs": []
    },
    {
      "cell_type": "markdown",
      "source": [
        "[271. Encode and Decode Strings(PREMIUM)](https://neetcode.io/problems/string-encode-and-decode)"
      ],
      "metadata": {
        "id": "pFHTjCYIVjdP"
      }
    },
    {
      "cell_type": "code",
      "source": [
        "class Codec:\n",
        "    def encode(self, strs: List[str]) -> str:\n",
        "        \"\"\"Encodes a list of strings to a single string.\"\"\"\n",
        "        ans = []\n",
        "        for s in strs:\n",
        "            ans.append('{:4}'.format(len(s)) + s)\n",
        "        return ''.join(ans)\n",
        "\n",
        "    def decode(self, s: str) -> List[str]:\n",
        "        \"\"\"Decodes a single string to a list of strings.\"\"\"\n",
        "        ans = []\n",
        "        i, n = 0, len(s)\n",
        "        while i < n:\n",
        "            size = int(s[i : i + 4])\n",
        "            i += 4\n",
        "            ans.append(s[i : i + size])\n",
        "            i += size\n",
        "        return ans\n",
        "\n",
        "\n",
        "# Your Codec object will be instantiated and called as such:\n",
        "# codec = Codec()\n",
        "# codec.decode(codec.encode(strs))"
      ],
      "metadata": {
        "id": "yUr3xwdbVFLT"
      },
      "execution_count": null,
      "outputs": []
    },
    {
      "cell_type": "code",
      "source": [
        "#include <vector>\n",
        "#include <string>\n",
        "#include <sstream>\n",
        "#include <iomanip>  // For std::setw and std::setfill\n",
        "using namespace std;\n",
        "\n",
        "class Codec {\n",
        "public:\n",
        "    // Encodes a list of strings to a single string.\n",
        "    string encode(vector<string>& strs) {\n",
        "        string encoded;\n",
        "        for (const string& s : strs) {\n",
        "            // Append the length as a 4-character wide field, followed by the string itself\n",
        "            encoded += to_string_with_padding(s.size()) + s;\n",
        "        }\n",
        "        return encoded;\n",
        "    }\n",
        "\n",
        "    // Decodes a single string to a list of strings.\n",
        "    vector<string> decode(const string& s) {\n",
        "        vector<string> decoded;\n",
        "        int i = 0;\n",
        "        int n = s.size();\n",
        "\n",
        "        while (i < n) {\n",
        "            // Read the length of the string (first 4 characters)\n",
        "            int size = stoi(s.substr(i, 4));\n",
        "            i += 4;\n",
        "\n",
        "            // Extract the string of the specified length\n",
        "            decoded.push_back(s.substr(i, size));\n",
        "            i += size;\n",
        "        }\n",
        "\n",
        "        return decoded;\n",
        "    }\n",
        "\n",
        "private:\n",
        "    // Helper function to format the size with leading spaces (width 4)\n",
        "    string to_string_with_padding(int num) {\n",
        "        stringstream ss;\n",
        "        ss << setw(4) << setfill(' ') << num;  // Format to 4 characters with space padding\n",
        "        return ss.str();\n",
        "    }\n",
        "};\n"
      ],
      "metadata": {
        "id": "r1fwqgSYcht_"
      },
      "execution_count": null,
      "outputs": []
    },
    {
      "cell_type": "markdown",
      "source": [
        "[238. Product of Array Except Self](https://leetcode.com/problems/product-of-array-except-self/description/)"
      ],
      "metadata": {
        "id": "umfszofFdvEw"
      }
    },
    {
      "cell_type": "code",
      "source": [
        "class Solution(object):\n",
        "    def productExceptSelf(self, nums):\n",
        "        \"\"\"\n",
        "        :type nums: List[int]\n",
        "        :rtype: List[int]\n",
        "        \"\"\"\n",
        "        n=len(nums)\n",
        "        soln=n*[0]\n",
        "        pref=1\n",
        "        suff=1\n",
        "\n",
        "        for i in range(n):\n",
        "            soln[i]=pref\n",
        "            pref*=nums[i]\n",
        "\n",
        "        for j in range(n-1,-1,-1):\n",
        "            soln[j]*=suff\n",
        "            suff*=nums[j]\n",
        "\n",
        "        return soln"
      ],
      "metadata": {
        "id": "xzG9cFCwd0iF"
      },
      "execution_count": null,
      "outputs": []
    },
    {
      "cell_type": "code",
      "source": [
        "#include <vector>\n",
        "using namespace std;\n",
        "\n",
        "class Solution {\n",
        "public:\n",
        "    vector<int> productExceptSelf(vector<int>& nums) {\n",
        "        int n = nums.size();\n",
        "        vector<int> soln(n, 1); // Initialize the result vector with 1s\n",
        "        int pref = 1;           // Prefix product\n",
        "        int suff = 1;           // Suffix product\n",
        "\n",
        "        // Calculate prefix products and store in the result vector\n",
        "        for (int i = 0; i < n; i++) {\n",
        "            soln[i] = pref;    // Assign the current prefix product\n",
        "            pref *= nums[i];   // Update prefix product\n",
        "        }\n",
        "\n",
        "        // Calculate suffix products and update the result vector\n",
        "        for (int j = n - 1; j >= 0; j--) {\n",
        "            soln[j] *= suff;   // Multiply the current value by the suffix product\n",
        "            suff *= nums[j];   // Update suffix product\n",
        "        }\n",
        "\n",
        "        return soln;\n",
        "    }\n",
        "};\n"
      ],
      "metadata": {
        "id": "6ssldhuwiEET"
      },
      "execution_count": null,
      "outputs": []
    },
    {
      "cell_type": "markdown",
      "source": [
        "[36. Valid Sudoku](https://leetcode.com/problems/valid-sudoku/description/)"
      ],
      "metadata": {
        "id": "R3neAe8rlzrz"
      }
    },
    {
      "cell_type": "code",
      "source": [
        "class Solution(object):\n",
        "    def isValidSudoku(self, board):\n",
        "        \"\"\"\n",
        "        :type board: List[List[str]]\n",
        "        :rtype: bool\n",
        "        \"\"\"\n",
        "        for i in board:\n",
        "            dic={}\n",
        "\n",
        "            for j in i:\n",
        "                if j==\".\":\n",
        "                    continue\n",
        "                dic[j]=dic.get(j,0)+1\n",
        "                if dic[j]>1:\n",
        "                    return False\n",
        "\n",
        "        for j in range(9):\n",
        "            dic_col={}\n",
        "            for i in range(9):\n",
        "                if board[i][j]==\".\":\n",
        "                    continue\n",
        "                dic_col[board[i][j]]=dic_col.get(board[i][j],0)+1\n",
        "                if dic_col[board[i][j]]>1:\n",
        "                    return False\n",
        "\n",
        "        lis=[0,3,6]\n",
        "        for i in lis:\n",
        "            for j in lis:\n",
        "                dic_square={}\n",
        "                for k in range(3):\n",
        "                    for l in range(3):\n",
        "                        if board[i+k][j+l]==\".\":\n",
        "                            continue\n",
        "                        dic_square[board[i+k][j+l]]=dic_square.get(board[i+k][j+l],0)+1\n",
        "                        if dic_square[board[i+k][j+l]]>1:\n",
        "                            return False\n",
        "        return True\n",
        "\n",
        "\n"
      ],
      "metadata": {
        "id": "Bd3pbg6YlzMk"
      },
      "execution_count": null,
      "outputs": []
    },
    {
      "cell_type": "code",
      "source": [
        "##Solution which was faster and cleaner.\n",
        "class Solution(object):\n",
        "    def isValidSudoku(self, board):\n",
        "        \"\"\"\n",
        "        :type board: List[List[str]]\n",
        "        :rtype: bool\n",
        "        \"\"\"\n",
        "        # Create thre dictionaries with sets as the values\n",
        "        rows = {}\n",
        "        cols = {}\n",
        "        squares = {}\n",
        "\n",
        "        def squareKey(row, col):\n",
        "            return str(row // 3)+str(col // 3)\n",
        "\n",
        "        row_len = len(board)\n",
        "        col_len = len(board[0])\n",
        "        for row in range(row_len):\n",
        "            for col in range(col_len):\n",
        "                # row logic\n",
        "                if board[row][col] != \".\":\n",
        "                    if row not in rows:\n",
        "                        rows[row] = set([board[row][col]])\n",
        "                    else:\n",
        "                        if board[row][col] in rows[row]:\n",
        "                            return False\n",
        "                        rows[row].add(board[row][col])\n",
        "\n",
        "                    # col logic\n",
        "                    if col not in cols:\n",
        "                        cols[col] = set([board[row][col]])\n",
        "                    else:\n",
        "                        if board[row][col] in cols[col]:\n",
        "                            return False\n",
        "                        cols[col].add(board[row][col])\n",
        "\n",
        "                    # square logic\n",
        "                    curr = squareKey(row, col)\n",
        "                    if curr not in squares:\n",
        "                        squares[curr] = set([board[row][col]])\n",
        "                    else:\n",
        "                        if board[row][col] in squares[curr]:\n",
        "                            return False\n",
        "                        squares[curr].add(board[row][col])\n",
        "        return True"
      ],
      "metadata": {
        "id": "yPvsrZaPIpet"
      },
      "execution_count": null,
      "outputs": []
    },
    {
      "cell_type": "code",
      "source": [
        "##C++ code of my own code\n",
        "%%cpp\n",
        "#include <vector>\n",
        "#include <unordered_map>\n",
        "#include <string>\n",
        "using namespace std;\n",
        "\n",
        "class Solution {\n",
        "public:\n",
        "    bool isValidSudoku(vector<vector<char>>& board) {\n",
        "        // Row validation\n",
        "        for (auto& row : board) {\n",
        "            unordered_map<char, int> row_map;\n",
        "            for (char ch : row) {\n",
        "                if (ch == '.') continue;\n",
        "                row_map[ch]++;\n",
        "                if (row_map[ch] > 1) return false;\n",
        "            }\n",
        "        }\n",
        "\n",
        "        // Column validation\n",
        "        for (int col = 0; col < 9; col++) {\n",
        "            unordered_map<char, int> col_map;\n",
        "            for (int row = 0; row < 9; row++) {\n",
        "                char ch = board[row][col];\n",
        "                if (ch == '.') continue;\n",
        "                col_map[ch]++;\n",
        "                if (col_map[ch] > 1) return false;\n",
        "            }\n",
        "        }\n",
        "\n",
        "        // 3x3 subgrid validation\n",
        "        vector<int> starts = {0, 3, 6};\n",
        "        for (int row_start : starts) {\n",
        "            for (int col_start : starts) {\n",
        "                unordered_map<char, int> subgrid_map;\n",
        "                for (int i = 0; i < 3; i++) {\n",
        "                    for (int j = 0; j < 3; j++) {\n",
        "                        char ch = board[row_start + i][col_start + j];\n",
        "                        if (ch == '.') continue;\n",
        "                        subgrid_map[ch]++;\n",
        "                        if (subgrid_map[ch] > 1) return false;\n",
        "                    }\n",
        "                }\n",
        "            }\n",
        "        }\n",
        "\n",
        "        return true;\n",
        "    }\n",
        "};\n"
      ],
      "metadata": {
        "id": "WC06f5AFIq_-"
      },
      "execution_count": null,
      "outputs": []
    },
    {
      "cell_type": "markdown",
      "source": [
        "[128. Longest Consecutive Sequence](https://leetcode.com/problems/longest-consecutive-sequence/description/)"
      ],
      "metadata": {
        "id": "C5HHP0UxJajL"
      }
    },
    {
      "cell_type": "code",
      "source": [],
      "metadata": {
        "id": "WyQ3WHwOJNsQ"
      },
      "execution_count": null,
      "outputs": []
    }
  ]
}