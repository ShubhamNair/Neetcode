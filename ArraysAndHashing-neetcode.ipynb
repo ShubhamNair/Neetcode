{
  "cells": [
    {
      "cell_type": "markdown",
      "metadata": {
        "id": "IAarjIS4PHtn"
      },
      "source": [
        "[217. Contains Duplicate](https://leetcode.com/problems/contains-duplicate/description/)"
      ]
    },
    {
      "cell_type": "code",
      "execution_count": null,
      "metadata": {
        "id": "TlfjsEFz1Fmy"
      },
      "outputs": [],
      "source": [
        "class Solution(object):\n",
        "    def containsDuplicate(self, nums):\n",
        "        dic={}\n",
        "\n",
        "        if len(nums)==0:\n",
        "            return False\n",
        "        for i in nums:\n",
        "            dic[i]=dic.get(i,0)+1\n",
        "\n",
        "        if max(dic.values())>1:\n",
        "            return True\n",
        "        return False"
      ]
    },
    {
      "cell_type": "code",
      "execution_count": null,
      "metadata": {
        "colab": {
          "base_uri": "https://localhost:8080/",
          "height": 126
        },
        "id": "wsFKTGjQU_Rr",
        "outputId": "b2949590-fc54-46f3-c3c5-185d4d11baf8"
      },
      "outputs": [],
      "source": [
        "%%cpp\n",
        "class Solution {\n",
        "public:\n",
        "    bool containsDuplicate(vector<int>& nums) {\n",
        "        unordered_map<int, int> dic;\n",
        "\n",
        "        if (nums.empty()) {\n",
        "            return false;\n",
        "        }\n",
        "\n",
        "        for (int num : nums) {\n",
        "            dic[num]++;\n",
        "        }\n",
        "\n",
        "        for (auto& pair : dic) {\n",
        "            if (pair.second > 1) {\n",
        "                return true;\n",
        "            }\n",
        "        }\n",
        "\n",
        "        return false;\n",
        "    }\n",
        "};"
      ]
    },
    {
      "cell_type": "markdown",
      "metadata": {
        "id": "uKm-yxP6PTOg"
      },
      "source": [
        "[242. Valid Anagram\n",
        "](https://leetcode.com/problems/valid-anagram/description/)"
      ]
    },
    {
      "cell_type": "code",
      "execution_count": null,
      "metadata": {
        "id": "LUAbd8ey3P8f"
      },
      "outputs": [],
      "source": [
        "class Solution(object):\n",
        "    def isAnagram(self, s, t):\n",
        "        \"\"\"\n",
        "        :type s: str\n",
        "        :type t: str\n",
        "        :rtype: bool\n",
        "        \"\"\"\n",
        "        dic1={}\n",
        "        dic2={}\n",
        "        if len(s)!=len(t):\n",
        "            return False\n",
        "        for i in range(len(s)):\n",
        "            dic1[s[i]]=dic1.get(s[i],0)+1\n",
        "\n",
        "            dic2[t[i]]=dic2.get(t[i],0)+1\n",
        "        if dic1==dic2:\n",
        "            return True\n",
        "        else:\n",
        "            return False\n",
        "\n"
      ]
    },
    {
      "cell_type": "code",
      "execution_count": null,
      "metadata": {
        "id": "rYDWgOFQWNXM"
      },
      "outputs": [],
      "source": [
        "#include <unordered_map>\n",
        "#include <string>\n",
        "using namespace std;\n",
        "\n",
        "class Solution {\n",
        "public:\n",
        "    bool isAnagram(string s, string t) {\n",
        "        // If the lengths are not equal, the strings cannot be anagrams\n",
        "        if (s.length() != t.length()) {\n",
        "            return false;\n",
        "        }\n",
        "\n",
        "        // Use an unordered_map to count character frequencies\n",
        "        unordered_map<char, int> charCount;\n",
        "\n",
        "        // Count characters from string `s` and reduce count for `t`\n",
        "        for (int i = 0; i < s.length(); i++) {\n",
        "            charCount[s[i]]++;  // Increment count for characters in `s`\n",
        "            charCount[t[i]]--;  // Decrement count for characters in `t`\n",
        "        }\n",
        "\n",
        "        // Check if all counts in the map are zero\n",
        "        for (auto& count : charCount) {\n",
        "            if (count.second != 0) {\n",
        "                return false;  // If any character count is not zero, not an anagram\n",
        "            }\n",
        "        }\n",
        "\n",
        "        return true;  // All counts are zero, meaning the strings are anagrams\n",
        "    }\n",
        "};\n"
      ]
    },
    {
      "cell_type": "markdown",
      "metadata": {
        "id": "QgBEnuvfX7GM"
      },
      "source": [
        "[1. Two Sum](https://leetcode.com/problems/two-sum/)"
      ]
    },
    {
      "cell_type": "code",
      "execution_count": null,
      "metadata": {
        "id": "0aWEWYhUWO-a"
      },
      "outputs": [],
      "source": [
        "class Solution(object):\n",
        "    def twoSum(self, nums, target):\n",
        "        \"\"\"\n",
        "        :type nums: List[int]\n",
        "        :type target: int\n",
        "        :rtype: List[int]\n",
        "        \"\"\"\n",
        "        pair={}\n",
        "        for i,num in enumerate(nums):\n",
        "            if target-num in pair:\n",
        "                return [i,pair[target-num]]\n",
        "            pair[num]=i\n"
      ]
    },
    {
      "cell_type": "code",
      "execution_count": null,
      "metadata": {
        "id": "AZMOXFEDYCcb"
      },
      "outputs": [],
      "source": [
        "#include <vector>\n",
        "#include <unordered_map>\n",
        "using namespace std;\n",
        "\n",
        "class Solution {\n",
        "public:\n",
        "    vector<int> twoSum(vector<int>& nums, int target) {\n",
        "        unordered_map<int, int> pair; // Map to store numbers and their indices\n",
        "\n",
        "        for (int i = 0; i < nums.size(); i++) {\n",
        "            int complement = target - nums[i]; // Find the complement for the current number\n",
        "\n",
        "            // Check if the complement exists in the map\n",
        "            if (pair.find(complement) != pair.end()) {\n",
        "                return {i, pair[complement]}; // Return current index and complement's index\n",
        "            }\n",
        "\n",
        "            // Store the current number and its index in the map\n",
        "            pair[nums[i]] = i;\n",
        "        }\n",
        "\n",
        "        return {}; // Return empty vector if no solution is found\n",
        "    }\n",
        "};\n"
      ]
    },
    {
      "cell_type": "markdown",
      "metadata": {
        "id": "bQQcFYIjZHji"
      },
      "source": [
        "[49. Group Anagrams\n",
        "](https://leetcode.com/problems/group-anagrams/description/)"
      ]
    },
    {
      "cell_type": "code",
      "execution_count": null,
      "metadata": {
        "id": "rWgrgTKLbkQk"
      },
      "outputs": [],
      "source": [
        "class Solution(object):\n",
        "    def groupAnagrams(self, strs):\n",
        "        \"\"\"\n",
        "        :type strs: List[str]\n",
        "        :rtype: List[List[str]]\n",
        "        \"\"\"\n",
        "        from collections import defaultdict\n",
        "        anagrams = defaultdict(list)\n",
        "\n",
        "        for s in strs:\n",
        "            count = [0] * 26\n",
        "            for char in s:\n",
        "                count[ord(char) - ord('a')] += 1\n",
        "            anagrams[tuple(count)].append(s)\n",
        "\n",
        "        return list(anagrams.values())"
      ]
    },
    {
      "cell_type": "code",
      "execution_count": null,
      "metadata": {
        "id": "Q_46wGqLeujW"
      },
      "outputs": [],
      "source": [
        "#include <vector>\n",
        "#include <string>\n",
        "#include <unordered_map>\n",
        "using namespace std;\n",
        "\n",
        "class Solution {\n",
        "public:\n",
        "    vector<vector<string>> groupAnagrams(vector<string>& strs) {\n",
        "        unordered_map<string, vector<string>> map;\n",
        "\n",
        "        for (auto &s : strs) {\n",
        "            vector<int> freq(26, 0);\n",
        "            for (char c : s) {\n",
        "                freq[c - 'a']++;\n",
        "            }\n",
        "            // Build the key from freq\n",
        "            string key;\n",
        "            for (int count : freq) {\n",
        "                key += to_string(count) + \"#\";\n",
        "            }\n",
        "            map[key].push_back(s);\n",
        "        }\n",
        "\n",
        "        vector<vector<string>> result;\n",
        "        for (auto &entry : map) {\n",
        "            result.push_back(entry.second);\n",
        "        }\n",
        "        return result;\n",
        "    }\n",
        "};"
      ]
    },
    {
      "cell_type": "markdown",
      "metadata": {
        "id": "_RsQi32zUzrD"
      },
      "source": [
        "[347. Top K Frequent Elements](https://leetcode.com/problems/top-k-frequent-elements/description/)"
      ]
    },
    {
      "cell_type": "code",
      "execution_count": null,
      "metadata": {
        "id": "VrqldmjuT0dN"
      },
      "outputs": [],
      "source": [
        "class Solution(object):\n",
        "    def topKFrequent(self, nums, k):\n",
        "        \"\"\"\n",
        "        :type nums: List[int]\n",
        "        :type k: int\n",
        "        :rtype: List[int]\n",
        "        \"\"\"\n",
        "        freq={}\n",
        "        for n in nums:\n",
        "            freq[n]=1+freq.get(n,0)\n",
        "\n",
        "        arr=[]\n",
        "        for n,f in freq.items():\n",
        "            arr.append((f,n))\n",
        "        arr.sort(reverse=True)\n",
        "\n",
        "        result=[]\n",
        "        j=0\n",
        "        while len(result)<k:\n",
        "            result.append(arr[j][1])\n",
        "            j+=1\n",
        "        return result"
      ]
    },
    {
      "cell_type": "code",
      "execution_count": null,
      "metadata": {
        "id": "tm8DuL1ET00M"
      },
      "outputs": [],
      "source": [
        "#include <vector>\n",
        "#include <unordered_map>\n",
        "#include <algorithm>\n",
        "using namespace std;\n",
        "\n",
        "class Solution {\n",
        "public:\n",
        "    vector<int> topKFrequent(vector<int>& nums, int k) {\n",
        "        // Step 1: Count the frequency of each number\n",
        "        unordered_map<int, int> freq;\n",
        "        for (int num : nums) {\n",
        "            freq[num]++;\n",
        "        }\n",
        "\n",
        "        // Step 2: Store frequency and numbers in a vector of pairs\n",
        "        vector<pair<int, int>> freqArr;\n",
        "        for (auto& entry : freq) {\n",
        "            freqArr.push_back({entry.second, entry.first});\n",
        "        }\n",
        "\n",
        "        // Step 3: Sort the vector of pairs by frequency in descending order\n",
        "        sort(freqArr.begin(), freqArr.end(), [](pair<int, int>& a, pair<int, int>& b) {\n",
        "            return a.first > b.first; // Sort by frequency in descending order\n",
        "        });\n",
        "\n",
        "        // Step 4: Extract the top k frequent elements\n",
        "        vector<int> result;\n",
        "        for (int i = 0; i < k; ++i) {\n",
        "            result.push_back(freqArr[i].second);\n",
        "        }\n",
        "\n",
        "        return result;\n",
        "    }\n",
        "};\n"
      ]
    },
    {
      "cell_type": "markdown",
      "metadata": {
        "id": "pFHTjCYIVjdP"
      },
      "source": [
        "[271. Encode and Decode Strings(PREMIUM)](https://neetcode.io/problems/string-encode-and-decode)"
      ]
    },
    {
      "cell_type": "code",
      "execution_count": null,
      "metadata": {
        "id": "yUr3xwdbVFLT"
      },
      "outputs": [],
      "source": [
        "class Codec:\n",
        "    def encode(self, strs: List[str]) -> str:\n",
        "        \"\"\"Encodes a list of strings to a single string.\"\"\"\n",
        "        ans = []\n",
        "        for s in strs:\n",
        "            ans.append('{:4}'.format(len(s)) + s)\n",
        "        return ''.join(ans)\n",
        "\n",
        "    def decode(self, s: str) -> List[str]:\n",
        "        \"\"\"Decodes a single string to a list of strings.\"\"\"\n",
        "        ans = []\n",
        "        i, n = 0, len(s)\n",
        "        while i < n:\n",
        "            size = int(s[i : i + 4])\n",
        "            i += 4\n",
        "            ans.append(s[i : i + size])\n",
        "            i += size\n",
        "        return ans\n",
        "\n",
        "\n",
        "# Your Codec object will be instantiated and called as such:\n",
        "# codec = Codec()\n",
        "# codec.decode(codec.encode(strs))"
      ]
    },
    {
      "cell_type": "code",
      "execution_count": null,
      "metadata": {
        "id": "r1fwqgSYcht_"
      },
      "outputs": [],
      "source": [
        "#include <vector>\n",
        "#include <string>\n",
        "#include <sstream>\n",
        "#include <iomanip>  // For std::setw and std::setfill\n",
        "using namespace std;\n",
        "\n",
        "class Codec {\n",
        "public:\n",
        "    // Encodes a list of strings to a single string.\n",
        "    string encode(vector<string>& strs) {\n",
        "        string encoded;\n",
        "        for (const string& s : strs) {\n",
        "            // Append the length as a 4-character wide field, followed by the string itself\n",
        "            encoded += to_string_with_padding(s.size()) + s;\n",
        "        }\n",
        "        return encoded;\n",
        "    }\n",
        "\n",
        "    // Decodes a single string to a list of strings.\n",
        "    vector<string> decode(const string& s) {\n",
        "        vector<string> decoded;\n",
        "        int i = 0;\n",
        "        int n = s.size();\n",
        "\n",
        "        while (i < n) {\n",
        "            // Read the length of the string (first 4 characters)\n",
        "            int size = stoi(s.substr(i, 4));\n",
        "            i += 4;\n",
        "\n",
        "            // Extract the string of the specified length\n",
        "            decoded.push_back(s.substr(i, size));\n",
        "            i += size;\n",
        "        }\n",
        "\n",
        "        return decoded;\n",
        "    }\n",
        "\n",
        "private:\n",
        "    // Helper function to format the size with leading spaces (width 4)\n",
        "    string to_string_with_padding(int num) {\n",
        "        stringstream ss;\n",
        "        ss << setw(4) << setfill(' ') << num;  // Format to 4 characters with space padding\n",
        "        return ss.str();\n",
        "    }\n",
        "};\n"
      ]
    },
    {
      "cell_type": "markdown",
      "metadata": {
        "id": "umfszofFdvEw"
      },
      "source": [
        "[238. Product of Array Except Self](https://leetcode.com/problems/product-of-array-except-self/description/)"
      ]
    },
    {
      "cell_type": "code",
      "execution_count": null,
      "metadata": {
        "id": "xzG9cFCwd0iF"
      },
      "outputs": [],
      "source": [
        "class Solution(object):\n",
        "    def productExceptSelf(self, nums):\n",
        "        \"\"\"\n",
        "        :type nums: List[int]\n",
        "        :rtype: List[int]\n",
        "        \"\"\"\n",
        "        n=len(nums)\n",
        "        soln=n*[0]\n",
        "        pref=1\n",
        "        suff=1\n",
        "\n",
        "        for i in range(n):\n",
        "            soln[i]=pref\n",
        "            pref*=nums[i]\n",
        "\n",
        "        for j in range(n-1,-1,-1):\n",
        "            soln[j]*=suff\n",
        "            suff*=nums[j]\n",
        "\n",
        "        return soln"
      ]
    },
    {
      "cell_type": "code",
      "execution_count": null,
      "metadata": {
        "id": "6ssldhuwiEET"
      },
      "outputs": [],
      "source": [
        "#include <vector>\n",
        "using namespace std;\n",
        "\n",
        "class Solution {\n",
        "public:\n",
        "    vector<int> productExceptSelf(vector<int>& nums) {\n",
        "        int n = nums.size();\n",
        "        vector<int> soln(n, 1); // Initialize the result vector with 1s\n",
        "        int pref = 1;           // Prefix product\n",
        "        int suff = 1;           // Suffix product\n",
        "\n",
        "        // Calculate prefix products and store in the result vector\n",
        "        for (int i = 0; i < n; i++) {\n",
        "            soln[i] = pref;    // Assign the current prefix product\n",
        "            pref *= nums[i];   // Update prefix product\n",
        "        }\n",
        "\n",
        "        // Calculate suffix products and update the result vector\n",
        "        for (int j = n - 1; j >= 0; j--) {\n",
        "            soln[j] *= suff;   // Multiply the current value by the suffix product\n",
        "            suff *= nums[j];   // Update suffix product\n",
        "        }\n",
        "\n",
        "        return soln;\n",
        "    }\n",
        "};\n"
      ]
    },
    {
      "cell_type": "markdown",
      "metadata": {
        "id": "R3neAe8rlzrz"
      },
      "source": [
        "[36. Valid Sudoku](https://leetcode.com/problems/valid-sudoku/description/)"
      ]
    },
    {
      "cell_type": "code",
      "execution_count": null,
      "metadata": {
        "id": "Bd3pbg6YlzMk"
      },
      "outputs": [],
      "source": [
        "class Solution(object):\n",
        "    def isValidSudoku(self, board):\n",
        "        \"\"\"\n",
        "        :type board: List[List[str]]\n",
        "        :rtype: bool\n",
        "        \"\"\"\n",
        "        for i in board:\n",
        "            dic={}\n",
        "\n",
        "            for j in i:\n",
        "                if j==\".\":\n",
        "                    continue\n",
        "                dic[j]=dic.get(j,0)+1\n",
        "                if dic[j]>1:\n",
        "                    return False\n",
        "\n",
        "        for j in range(9):\n",
        "            dic_col={}\n",
        "            for i in range(9):\n",
        "                if board[i][j]==\".\":\n",
        "                    continue\n",
        "                dic_col[board[i][j]]=dic_col.get(board[i][j],0)+1\n",
        "                if dic_col[board[i][j]]>1:\n",
        "                    return False\n",
        "\n",
        "        lis=[0,3,6]\n",
        "        for i in lis:\n",
        "            for j in lis:\n",
        "                dic_square={}\n",
        "                for k in range(3):\n",
        "                    for l in range(3):\n",
        "                        if board[i+k][j+l]==\".\":\n",
        "                            continue\n",
        "                        dic_square[board[i+k][j+l]]=dic_square.get(board[i+k][j+l],0)+1\n",
        "                        if dic_square[board[i+k][j+l]]>1:\n",
        "                            return False\n",
        "        return True\n",
        "\n",
        "\n"
      ]
    },
    {
      "cell_type": "code",
      "execution_count": null,
      "metadata": {
        "id": "yPvsrZaPIpet"
      },
      "outputs": [],
      "source": [
        "##Solution which was faster and cleaner.\n",
        "class Solution(object):\n",
        "    def isValidSudoku(self, board):\n",
        "        \"\"\"\n",
        "        :type board: List[List[str]]\n",
        "        :rtype: bool\n",
        "        \"\"\"\n",
        "        # Create thre dictionaries with sets as the values\n",
        "        rows = {}\n",
        "        cols = {}\n",
        "        squares = {}\n",
        "\n",
        "        def squareKey(row, col):\n",
        "            return str(row // 3)+str(col // 3)\n",
        "\n",
        "        row_len = len(board)\n",
        "        col_len = len(board[0])\n",
        "        for row in range(row_len):\n",
        "            for col in range(col_len):\n",
        "                # row logic\n",
        "                if board[row][col] != \".\":\n",
        "                    if row not in rows:\n",
        "                        rows[row] = set([board[row][col]])\n",
        "                    else:\n",
        "                        if board[row][col] in rows[row]:\n",
        "                            return False\n",
        "                        rows[row].add(board[row][col])\n",
        "\n",
        "                    # col logic\n",
        "                    if col not in cols:\n",
        "                        cols[col] = set([board[row][col]])\n",
        "                    else:\n",
        "                        if board[row][col] in cols[col]:\n",
        "                            return False\n",
        "                        cols[col].add(board[row][col])\n",
        "\n",
        "                    # square logic\n",
        "                    curr = squareKey(row, col)\n",
        "                    if curr not in squares:\n",
        "                        squares[curr] = set([board[row][col]])\n",
        "                    else:\n",
        "                        if board[row][col] in squares[curr]:\n",
        "                            return False\n",
        "                        squares[curr].add(board[row][col])\n",
        "        return True"
      ]
    },
    {
      "cell_type": "code",
      "execution_count": null,
      "metadata": {
        "id": "WC06f5AFIq_-"
      },
      "outputs": [],
      "source": [
        "##C++ code of my own code\n",
        "%%cpp\n",
        "#include <vector>\n",
        "#include <unordered_map>\n",
        "#include <string>\n",
        "using namespace std;\n",
        "\n",
        "class Solution {\n",
        "public:\n",
        "    bool isValidSudoku(vector<vector<char>>& board) {\n",
        "        // Row validation\n",
        "        for (auto& row : board) {\n",
        "            unordered_map<char, int> row_map;\n",
        "            for (char ch : row) {\n",
        "                if (ch == '.') continue;\n",
        "                row_map[ch]++;\n",
        "                if (row_map[ch] > 1) return false;\n",
        "            }\n",
        "        }\n",
        "\n",
        "        // Column validation\n",
        "        for (int col = 0; col < 9; col++) {\n",
        "            unordered_map<char, int> col_map;\n",
        "            for (int row = 0; row < 9; row++) {\n",
        "                char ch = board[row][col];\n",
        "                if (ch == '.') continue;\n",
        "                col_map[ch]++;\n",
        "                if (col_map[ch] > 1) return false;\n",
        "            }\n",
        "        }\n",
        "\n",
        "        // 3x3 subgrid validation\n",
        "        vector<int> starts = {0, 3, 6};\n",
        "        for (int row_start : starts) {\n",
        "            for (int col_start : starts) {\n",
        "                unordered_map<char, int> subgrid_map;\n",
        "                for (int i = 0; i < 3; i++) {\n",
        "                    for (int j = 0; j < 3; j++) {\n",
        "                        char ch = board[row_start + i][col_start + j];\n",
        "                        if (ch == '.') continue;\n",
        "                        subgrid_map[ch]++;\n",
        "                        if (subgrid_map[ch] > 1) return false;\n",
        "                    }\n",
        "                }\n",
        "            }\n",
        "        }\n",
        "\n",
        "        return true;\n",
        "    }\n",
        "};\n"
      ]
    },
    {
      "cell_type": "markdown",
      "metadata": {
        "id": "C5HHP0UxJajL"
      },
      "source": [
        "[128. Longest Consecutive Sequence](https://leetcode.com/problems/longest-consecutive-sequence/description/)"
      ]
    },
    {
      "cell_type": "code",
      "execution_count": null,
      "metadata": {
        "id": "WyQ3WHwOJNsQ"
      },
      "outputs": [],
      "source": [
        "class Solution(object):\n",
        "    def longestConsecutive(self, nums):\n",
        "        \"\"\"\n",
        "        :type nums: List[int]\n",
        "        :rtype: int\n",
        "        \"\"\"\n",
        "        if not nums:  # Handle empty list case\n",
        "            return 0\n",
        "        \n",
        "        # Remove duplicates and sort the list\n",
        "        nums = sorted(set(nums))\n",
        "        max_length = 1\n",
        "        current_length = 1\n",
        "        \n",
        "        for i in range(1, len(nums)):\n",
        "            if nums[i] == nums[i - 1] + 1:  # Check for consecutive numbers\n",
        "                current_length += 1\n",
        "                max_length = max(max_length, current_length)\n",
        "            else:  # Reset the current streak\n",
        "                current_length = 1\n",
        "        \n",
        "        return max_length\n",
        "\n",
        "\"\"\" \n",
        "#Old string solution which caused error when having -5 and 5 in list.\n",
        "#This caused 5 to be present in the list which reduced the length of the string.\n",
        "class Solution(object):\n",
        "    def longestConsecutive(self, nums):\n",
        "        \"\"\"\"\"\"\n",
        "        :type nums: List[int]\n",
        "        :rtype: int\n",
        "        \"\"\"\"\"\"\n",
        "        if nums==[]:\n",
        "            return 0\n",
        "        nums=list(set(nums))\n",
        "        nums.sort()\n",
        "        print(nums)\n",
        "        string=''\n",
        "        \n",
        "        for i in range(len(nums)-1):\n",
        "            if nums[i]+1==nums[i+1]:\n",
        "                if str(nums[i]) in string:\n",
        "                    string+=\",\"+str(nums[i+1])\n",
        "                else:\n",
        "                    string+=str(nums[i])\n",
        "                    string+=\",\"+str(nums[i+1])\n",
        "            else:\n",
        "                string=string+\".\"\n",
        "        final=string.split(\".\")\n",
        "        print(final)\n",
        "        if len(max(final,key=len)):\n",
        "            return max(final,key=len).count(\",\")+1\n",
        "        else:\n",
        "            return 1\n",
        "\"\"\""
      ]
    },
    {
      "cell_type": "code",
      "execution_count": null,
      "metadata": {},
      "outputs": [],
      "source": [
        "%%cpp\n",
        "class Solution {\n",
        "public:\n",
        "    int longestConsecutive(vector<int>& nums) {\n",
        "        int n = nums.size();\n",
        "\n",
        "        // Return 0 if array is empty\n",
        "        if (n == 0) return 0; \n",
        "\n",
        "        sort(nums.begin(), nums.end()); \n",
        "\n",
        "        // Track last smaller element\n",
        "        int lastSmaller = INT_MIN; \n",
        "        // Count current sequence length\n",
        "        int cnt = 0; \n",
        "        // Track longest sequence length\n",
        "        int longest = 1; \n",
        "\n",
        "        for (int i = 0; i < n; i++) {\n",
        "            // If consecutive number exists\n",
        "            if (nums[i] - 1 == lastSmaller) {\n",
        "                // Increment sequence count\n",
        "                cnt += 1; \n",
        "                // Update last smaller element\n",
        "                lastSmaller = nums[i]; \n",
        "            } \n",
        "            // If consecutive number doesn't exits\n",
        "            else if (nums[i] != lastSmaller) {\n",
        "                // Reset count for new sequence\n",
        "                cnt = 1; \n",
        "                // Update last smaller element\n",
        "                lastSmaller = nums[i]; \n",
        "            }\n",
        "            // Update longest if needed\n",
        "            longest = max(longest, cnt); \n",
        "        }\n",
        "        return longest;\n",
        "        \n",
        "    }\n",
        "};"
      ]
    }
  ],
  "metadata": {
    "colab": {
      "provenance": []
    },
    "kernelspec": {
      "display_name": "Python 3",
      "name": "python3"
    },
    "language_info": {
      "codemirror_mode": {
        "name": "ipython",
        "version": 3
      },
      "file_extension": ".py",
      "mimetype": "text/x-python",
      "name": "python",
      "nbconvert_exporter": "python",
      "pygments_lexer": "ipython3",
      "version": "3.9.6"
    }
  },
  "nbformat": 4,
  "nbformat_minor": 0
}
