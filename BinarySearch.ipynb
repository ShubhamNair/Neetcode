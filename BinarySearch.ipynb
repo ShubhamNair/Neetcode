{
 "cells": [
  {
   "cell_type": "markdown",
   "metadata": {},
   "source": [
    "[704. Binary Search\n",
    "](https://leetcode.com/problems/binary-search/description/)"
   ]
  },
  {
   "cell_type": "code",
   "execution_count": null,
   "metadata": {
    "vscode": {
     "languageId": "plaintext"
    }
   },
   "outputs": [],
   "source": [
    "class Solution(object):\n",
    "    def search(self, nums, target):\n",
    "        \"\"\"\n",
    "        :type nums: List[int]\n",
    "        :type target: int\n",
    "        :rtype: int\n",
    "        \"\"\"\n",
    "        if target in nums:\n",
    "            l=0\n",
    "            r=len(nums)\n",
    "            mid=r//2\n",
    "\n",
    "            while l<r:\n",
    "                if target<nums[mid]:\n",
    "                    r=mid\n",
    "                    mid=(l+r)//2\n",
    "                elif target==nums[mid]:\n",
    "                    return mid\n",
    "                else:\n",
    "                    l=mid\n",
    "                    mid=(l+r)//2\n",
    "        else:\n",
    "            return -1\n",
    "        "
   ]
  },
  {
   "cell_type": "markdown",
   "metadata": {},
   "source": [
    "[74. Search a 2D Matrix\n",
    "](https://leetcode.com/problems/search-a-2d-matrix/)"
   ]
  },
  {
   "cell_type": "markdown",
   "metadata": {},
   "source": []
  }
 ],
 "metadata": {
  "language_info": {
   "name": "python"
  }
 },
 "nbformat": 4,
 "nbformat_minor": 2
}
