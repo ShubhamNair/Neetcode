{
 "cells": [
  {
   "cell_type": "markdown",
   "metadata": {},
   "source": [
    "[704. Binary Search\n",
    "](https://leetcode.com/problems/binary-search/description/)"
   ]
  },
  {
   "cell_type": "code",
   "execution_count": null,
   "metadata": {
    "vscode": {
     "languageId": "plaintext"
    }
   },
   "outputs": [],
   "source": [
    "class Solution(object):\n",
    "    def search(self, nums, target):\n",
    "        \"\"\"\n",
    "        :type nums: List[int]\n",
    "        :type target: int\n",
    "        :rtype: int\n",
    "        \"\"\"\n",
    "        if target in nums:\n",
    "            l=0\n",
    "            r=len(nums)\n",
    "            mid=r//2\n",
    "\n",
    "            while l<r:\n",
    "                if target<nums[mid]:\n",
    "                    r=mid\n",
    "                    mid=(l+r)//2\n",
    "                elif target==nums[mid]:\n",
    "                    return mid\n",
    "                else:\n",
    "                    l=mid\n",
    "                    mid=(l+r)//2\n",
    "        else:\n",
    "            return -1\n",
    "        "
   ]
  },
  {
   "cell_type": "markdown",
   "metadata": {},
   "source": [
    "[74. Search a 2D Matrix\n",
    "](https://leetcode.com/problems/search-a-2d-matrix/)"
   ]
  },
  {
   "cell_type": "code",
   "execution_count": null,
   "metadata": {
    "vscode": {
     "languageId": "plaintext"
    }
   },
   "outputs": [],
   "source": [
    "class Solution:\n",
    "    def search(self, nums, target):\n",
    "        \"\"\"\n",
    "        Binary search to find the target in a sorted list.\n",
    "        \"\"\"\n",
    "        low, high = 0, len(nums) - 1\n",
    "        while low <= high:\n",
    "            mid = (low + high) // 2\n",
    "            if nums[mid] == target:\n",
    "                return True\n",
    "            elif nums[mid] < target:\n",
    "                low = mid + 1\n",
    "            else:\n",
    "                high = mid - 1\n",
    "        return False\n",
    "\n",
    "    def searchMatrix(self, matrix, target):\n",
    "        \"\"\"\n",
    "        Searches for the target in a sorted 2D matrix using your logic.\n",
    "        \"\"\"\n",
    "        l, r = 0, len(matrix) - 1\n",
    "        while l <= r:\n",
    "            mid = (l + r) // 2\n",
    "            if target <= matrix[mid][-1]:\n",
    "                if self.search(matrix[mid], target):\n",
    "                    return True\n",
    "                r = mid - 1\n",
    "            elif target >= matrix[mid][-1]:\n",
    "                l = mid + 1\n",
    "        return False"
   ]
  },
  {
   "cell_type": "markdown",
   "metadata": {},
   "source": [
    "[875. Koko Eating Bananas](https://leetcode.com/problems/koko-eating-bananas/description/)"
   ]
  },
  {
   "cell_type": "code",
   "execution_count": null,
   "metadata": {
    "vscode": {
     "languageId": "plaintext"
    }
   },
   "outputs": [],
   "source": []
  }
 ],
 "metadata": {
  "language_info": {
   "name": "python"
  }
 },
 "nbformat": 4,
 "nbformat_minor": 2
}
