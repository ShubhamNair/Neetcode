{
 "cells": [
  {
   "cell_type": "markdown",
   "metadata": {},
   "source": [
    "[125. Valid Palindrome](https://leetcode.com/problems/valid-palindrome/description/)"
   ]
  },
  {
   "cell_type": "markdown",
   "metadata": {},
   "source": [
    "class Solution(object):\n",
    "    def isPalindrome(self, s):\n",
    "        \"\"\"\n",
    "        :type s: str\n",
    "        :rtype: bool\n",
    "        \"\"\"\n",
    "        def alphanum(x):                        #sting.isalnum() is inbuilt and can be used\n",
    "            return (\"a\"<=x<=\"z\") or (\"A\"<=x<=\"Z\") or (\"0\"<=x<=\"9\")\n",
    "\n",
    "        st,end=0,len(s)-1\n",
    "        while st<end:\n",
    "            while st<end and not alphanum(s[st]):\n",
    "                st+=1\n",
    "            while st<end and not alphanum(s[end]):\n",
    "                end-=1\n",
    "            if s[st].lower()!=s[end].lower():\n",
    "                return False\n",
    "            st+=1\n",
    "            end-=1\n",
    "        return True"
   ]
  },
  {
   "cell_type": "code",
   "execution_count": null,
   "metadata": {
    "vscode": {
     "languageId": "plaintext"
    }
   },
   "outputs": [],
   "source": [
    "%%cpp\n",
    "#include <string>\n",
    "#include <cctype>\n",
    "using namespace std;\n",
    "\n",
    "class Solution {\n",
    "public:\n",
    "    bool isPalindrome(string s) {\n",
    "        int l = 0, r = s.size() - 1;\n",
    "\n",
    "        while (l < r) {\n",
    "            // Move the left pointer to the next alphanumeric character\n",
    "            while (l < r && !isalnum(s[l])) {\n",
    "                l++;\n",
    "            }\n",
    "\n",
    "            // Move the right pointer to the previous alphanumeric character\n",
    "            while (l < r && !isalnum(s[r])) {\n",
    "                r--;\n",
    "            }\n",
    "\n",
    "            // Compare the characters (case-insensitive)\n",
    "            if (tolower(s[l]) != tolower(s[r])) {\n",
    "                return false;\n",
    "            }\n",
    "\n",
    "            l++;\n",
    "            r--;\n",
    "        }\n",
    "\n",
    "        return true;\n",
    "    }\n",
    "};"
   ]
  },
  {
   "cell_type": "markdown",
   "metadata": {},
   "source": [
    "[167. Two Sum II - Input Array Is Sorted](https://leetcode.com/problems/two-sum-ii-input-array-is-sorted/description/)"
   ]
  },
  {
   "cell_type": "markdown",
   "metadata": {},
   "source": [
    "class Solution(object):\n",
    "    def twoSum(self, numbers, target):\n",
    "        \"\"\"\n",
    "        :type numbers: List[int]\n",
    "        :type target: int\n",
    "        :rtype: List[int]\n",
    "        \"\"\"\n",
    "        i,j=0,len(numbers)-1\n",
    "        while i<j:\n",
    "            if numbers[i]+numbers[j]==target:\n",
    "                return [i+1,j+1]\n",
    "            elif numbers[i]+numbers[j]<target:\n",
    "                i+=1\n",
    "            else:\n",
    "                j-=1"
   ]
  },
  {
   "cell_type": "code",
   "execution_count": null,
   "metadata": {
    "vscode": {
     "languageId": "plaintext"
    }
   },
   "outputs": [],
   "source": [
    "%%cpp\n",
    "#include <vector>\n",
    "using namespace std;\n",
    "\n",
    "class Solution {\n",
    "public:\n",
    "    vector<int> twoSum(vector<int>& numbers, int target) {\n",
    "        int i = 0, j = numbers.size() - 1;\n",
    "        while (i < j) {\n",
    "            int sum = numbers[i] + numbers[j];\n",
    "            if (sum == target) {\n",
    "                return {i + 1, j + 1}; // 1-based indices\n",
    "            } else if (sum < target) {\n",
    "                i++;\n",
    "            } else {\n",
    "                j--;\n",
    "            }\n",
    "        }\n",
    "        return {}; // Return an empty vector if no solution is found\n",
    "    }\n",
    "};\n"
   ]
  },
  {
   "cell_type": "markdown",
   "metadata": {},
   "source": [
    "[15. 3Sum](https://leetcode.com/problems/3sum/description/)"
   ]
  },
  {
   "cell_type": "markdown",
   "metadata": {},
   "source": []
  }
 ],
 "metadata": {
  "language_info": {
   "name": "python"
  }
 },
 "nbformat": 4,
 "nbformat_minor": 2
}
