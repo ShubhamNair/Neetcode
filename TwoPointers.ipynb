{
 "cells": [
  {
   "cell_type": "markdown",
   "metadata": {},
   "source": [
    "[125. Valid Palindrome](https://leetcode.com/problems/valid-palindrome/description/)"
   ]
  },
  {
   "cell_type": "markdown",
   "metadata": {},
   "source": [
    "class Solution(object):\n",
    "    def isPalindrome(self, s):\n",
    "        \"\"\"\n",
    "        :type s: str\n",
    "        :rtype: bool\n",
    "        \"\"\"\n",
    "        def alphanum(x):                        #sting.isalnum() is inbuilt and can be used\n",
    "            return (\"a\"<=x<=\"z\") or (\"A\"<=x<=\"Z\") or (\"0\"<=x<=\"9\")\n",
    "\n",
    "        st,end=0,len(s)-1\n",
    "        while st<end:\n",
    "            while st<end and not alphanum(s[st]):\n",
    "                st+=1\n",
    "            while st<end and not alphanum(s[end]):\n",
    "                end-=1\n",
    "            if s[st].lower()!=s[end].lower():\n",
    "                return False\n",
    "            st+=1\n",
    "            end-=1\n",
    "        return True"
   ]
  },
  {
   "cell_type": "code",
   "execution_count": null,
   "metadata": {
    "vscode": {
     "languageId": "plaintext"
    }
   },
   "outputs": [],
   "source": [
    "%%cpp\n",
    "#include <string>\n",
    "#include <cctype>\n",
    "using namespace std;\n",
    "\n",
    "class Solution {\n",
    "public:\n",
    "    bool isPalindrome(string s) {\n",
    "        int l = 0, r = s.size() - 1;\n",
    "\n",
    "        while (l < r) {\n",
    "            // Move the left pointer to the next alphanumeric character\n",
    "            while (l < r && !isalnum(s[l])) {\n",
    "                l++;\n",
    "            }\n",
    "\n",
    "            // Move the right pointer to the previous alphanumeric character\n",
    "            while (l < r && !isalnum(s[r])) {\n",
    "                r--;\n",
    "            }\n",
    "\n",
    "            // Compare the characters (case-insensitive)\n",
    "            if (tolower(s[l]) != tolower(s[r])) {\n",
    "                return false;\n",
    "            }\n",
    "\n",
    "            l++;\n",
    "            r--;\n",
    "        }\n",
    "\n",
    "        return true;\n",
    "    }\n",
    "};"
   ]
  },
  {
   "cell_type": "markdown",
   "metadata": {},
   "source": [
    "[167. Two Sum II - Input Array Is Sorted](https://leetcode.com/problems/two-sum-ii-input-array-is-sorted/description/)"
   ]
  },
  {
   "cell_type": "markdown",
   "metadata": {},
   "source": [
    "class Solution(object):\n",
    "    def twoSum(self, numbers, target):\n",
    "        \"\"\"\n",
    "        :type numbers: List[int]\n",
    "        :type target: int\n",
    "        :rtype: List[int]\n",
    "        \"\"\"\n",
    "        i,j=0,len(numbers)-1\n",
    "        while i<j:\n",
    "            if numbers[i]+numbers[j]==target:\n",
    "                return [i+1,j+1]\n",
    "            elif numbers[i]+numbers[j]<target:\n",
    "                i+=1\n",
    "            else:\n",
    "                j-=1"
   ]
  },
  {
   "cell_type": "code",
   "execution_count": null,
   "metadata": {
    "vscode": {
     "languageId": "plaintext"
    }
   },
   "outputs": [],
   "source": [
    "%%cpp\n",
    "#include <vector>\n",
    "using namespace std;\n",
    "\n",
    "class Solution {\n",
    "public:\n",
    "    vector<int> twoSum(vector<int>& numbers, int target) {\n",
    "        int i = 0, j = numbers.size() - 1;\n",
    "        while (i < j) {\n",
    "            int sum = numbers[i] + numbers[j];\n",
    "            if (sum == target) {\n",
    "                return {i + 1, j + 1}; // 1-based indices\n",
    "            } else if (sum < target) {\n",
    "                i++;\n",
    "            } else {\n",
    "                j--;\n",
    "            }\n",
    "        }\n",
    "        return {}; // Return an empty vector if no solution is found\n",
    "    }\n",
    "};"
   ]
  },
  {
   "cell_type": "markdown",
   "metadata": {},
   "source": [
    "[15. 3Sum](https://leetcode.com/problems/3sum/description/)"
   ]
  },
  {
   "cell_type": "code",
   "execution_count": null,
   "metadata": {
    "vscode": {
     "languageId": "plaintext"
    }
   },
   "outputs": [],
   "source": [
    "class Solution:\n",
    "    def threeSum(self, nums):\n",
    "        res = []\n",
    "        nums.sort()\n",
    "\n",
    "        for i in range(len(nums)):\n",
    "            if i > 0 and nums[i] == nums[i-1]:\n",
    "                continue\n",
    "            \n",
    "            j = i + 1\n",
    "            k = len(nums) - 1\n",
    "\n",
    "            while j < k:\n",
    "                total = nums[i] + nums[j] + nums[k]\n",
    "\n",
    "                if total > 0:\n",
    "                    k -= 1\n",
    "                elif total < 0:\n",
    "                    j += 1\n",
    "                else:\n",
    "                    res.append([nums[i], nums[j], nums[k]])\n",
    "                    j += 1\n",
    "\n",
    "                    while nums[j] == nums[j-1] and j < k:\n",
    "                        j += 1\n",
    "        \n",
    "        return res"
   ]
  },
  {
   "cell_type": "markdown",
   "metadata": {},
   "source": [
    "[11. Container With Most Water](https://leetcode.com/problems/container-with-most-water/)"
   ]
  },
  {
   "cell_type": "code",
   "execution_count": null,
   "metadata": {
    "vscode": {
     "languageId": "plaintext"
    }
   },
   "outputs": [],
   "source": [
    "class Solution:\n",
    "    def maxArea(self, height):\n",
    "        n=len(height)\n",
    "        max_area=0\n",
    "        l=0\n",
    "        r=n-1\n",
    "        result=0\n",
    "        while l<r:\n",
    "            max_area = (r-l)*min(height[l],height[r])\n",
    "            result=max(max_area,result)\n",
    "            if height[l]<height[r]:\n",
    "                l+=1\n",
    "            else:\n",
    "                r-=1\n",
    "        return result"
   ]
  },
  {
   "cell_type": "markdown",
   "metadata": {},
   "source": [
    "[42. Trapping Rain Water](https://leetcode.com/problems/trapping-rain-water/description/)"
   ]
  },
  {
   "cell_type": "code",
   "execution_count": null,
   "metadata": {
    "vscode": {
     "languageId": "plaintext"
    }
   },
   "outputs": [],
   "source": [
    "class Solution(object):\n",
    "    def trap(self, height):\n",
    "        \"\"\"\n",
    "        :type height: List[int]\n",
    "        :rtype: int\n",
    "        \"\"\"\n",
    "        if not height or len(height) < 3:\n",
    "            return 0  # No water can be trapped if there are less than 3 bars\n",
    "\n",
    "        l, r = 0, len(height) - 1  # Two pointers\n",
    "        maxl, maxr = height[l], height[r]  # Maximum heights seen from left and right\n",
    "        trapped_water = 0\n",
    "\n",
    "        while l < r:\n",
    "            if maxl < maxr:\n",
    "                l += 1\n",
    "                maxl = max(maxl, height[l])\n",
    "                trapped_water += maxl - height[l]\n",
    "            else:\n",
    "                r -= 1\n",
    "                maxr = max(maxr, height[r])\n",
    "                trapped_water += maxr - height[r]\n",
    "\n",
    "        return trapped_water\n"
   ]
  }
 ],
 "metadata": {
  "language_info": {
   "name": "python"
  }
 },
 "nbformat": 4,
 "nbformat_minor": 2
}
