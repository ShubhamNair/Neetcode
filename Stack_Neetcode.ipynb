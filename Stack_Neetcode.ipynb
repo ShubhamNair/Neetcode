{
  "nbformat": 4,
  "nbformat_minor": 0,
  "metadata": {
    "colab": {
      "provenance": []
    },
    "kernelspec": {
      "name": "python3",
      "display_name": "Python 3"
    },
    "language_info": {
      "name": "python"
    }
  },
  "cells": [
    {
      "cell_type": "markdown",
      "source": [
        "[20. Valid Parentheses](https://leetcode.com/problems/valid-parentheses/description/)"
      ],
      "metadata": {
        "id": "UBp5M0NheWc6"
      }
    },
    {
      "cell_type": "code",
      "execution_count": null,
      "metadata": {
        "id": "UMV-8R1CeVJ8"
      },
      "outputs": [],
      "source": [
        "class Solution:\n",
        "    def isValid(self, s):\n",
        "        stack= []\n",
        "        hash={\")\":\"(\",\"]\":\"[\",\"}\":\"{\"}\n",
        "        for i in s:\n",
        "            if stack and i in hash:\n",
        "                if hash[i]==stack[-1]:\n",
        "                    stack.pop()\n",
        "\n",
        "                else:\n",
        "                    return False\n",
        "            else:\n",
        "                stack.append(i)\n",
        "\n",
        "        return not stack"
      ]
    },
    {
      "cell_type": "markdown",
      "source": [
        "[155. Min Stack](https://leetcode.com/problems/min-stack/description/)"
      ],
      "metadata": {
        "id": "RkrfJYzae1O5"
      }
    },
    {
      "cell_type": "code",
      "source": [
        "class MinStack(object):\n",
        "\n",
        "    def __init__(self):\n",
        "        self.lst=[]\n",
        "        self.trackmin=[]\n",
        "\n",
        "    def push(self, val):\n",
        "        \"\"\"\n",
        "        :type val: int\n",
        "        :rtype: None\n",
        "        \"\"\"\n",
        "        self.lst.append(val)\n",
        "        if len(self.trackmin)==0 or val<=self.trackmin[-1]:\n",
        "            self.trackmin.append(val)\n",
        "\n",
        "\n",
        "\n",
        "    def pop(self):\n",
        "        \"\"\"\n",
        "        :rtype: None\n",
        "        \"\"\"\n",
        "        popped=self.lst.pop()\n",
        "        if popped==self.trackmin[-1]:\n",
        "            self.trackmin.pop()\n",
        "\n",
        "\n",
        "    def top(self):\n",
        "        \"\"\"\n",
        "        :rtype: int\n",
        "        \"\"\"\n",
        "        return self.lst[-1]\n",
        "\n",
        "    def getMin(self):\n",
        "        \"\"\"\n",
        "        :rtype: int\n",
        "        \"\"\"\n",
        "        return self.trackmin[-1]\n",
        "\n",
        "\n",
        "# Your MinStack object will be instantiated and called as such:\n",
        "# obj = MinStack()\n",
        "# obj.push(val)\n",
        "# obj.pop()\n",
        "# param_3 = obj.top()\n",
        "# param_4 = obj.getMin()"
      ],
      "metadata": {
        "id": "j3n4oTUtez63"
      },
      "execution_count": null,
      "outputs": []
    }
  ]
}