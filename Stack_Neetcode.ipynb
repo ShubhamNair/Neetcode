{
  "cells": [
    {
      "cell_type": "markdown",
      "metadata": {
        "id": "UBp5M0NheWc6"
      },
      "source": [
        "[20. Valid Parentheses](https://leetcode.com/problems/valid-parentheses/description/)"
      ]
    },
    {
      "cell_type": "code",
      "execution_count": null,
      "metadata": {
        "id": "UMV-8R1CeVJ8"
      },
      "outputs": [],
      "source": [
        "class Solution:\n",
        "    def isValid(self, s):\n",
        "        stack= []\n",
        "        hash={\")\":\"(\",\"]\":\"[\",\"}\":\"{\"}\n",
        "        for i in s:\n",
        "            if stack and i in hash:\n",
        "                if hash[i]==stack[-1]:\n",
        "                    stack.pop()\n",
        "\n",
        "                else:\n",
        "                    return False\n",
        "            else:\n",
        "                stack.append(i)\n",
        "\n",
        "        return not stack"
      ]
    },
    {
      "cell_type": "markdown",
      "metadata": {
        "id": "RkrfJYzae1O5"
      },
      "source": [
        "[155. Min Stack](https://leetcode.com/problems/min-stack/description/)"
      ]
    },
    {
      "cell_type": "code",
      "execution_count": null,
      "metadata": {
        "id": "j3n4oTUtez63"
      },
      "outputs": [],
      "source": [
        "class MinStack(object):\n",
        "\n",
        "    def __init__(self):\n",
        "        self.lst=[]\n",
        "        self.trackmin=[]\n",
        "\n",
        "    def push(self, val):\n",
        "        \"\"\"\n",
        "        :type val: int\n",
        "        :rtype: None\n",
        "        \"\"\"\n",
        "        self.lst.append(val)\n",
        "        if len(self.trackmin)==0 or val<=self.trackmin[-1]:\n",
        "            self.trackmin.append(val)\n",
        "\n",
        "\n",
        "\n",
        "    def pop(self):\n",
        "        \"\"\"\n",
        "        :rtype: None\n",
        "        \"\"\"\n",
        "        popped=self.lst.pop()\n",
        "        if popped==self.trackmin[-1]:\n",
        "            self.trackmin.pop()\n",
        "\n",
        "\n",
        "    def top(self):\n",
        "        \"\"\"\n",
        "        :rtype: int\n",
        "        \"\"\"\n",
        "        return self.lst[-1]\n",
        "\n",
        "    def getMin(self):\n",
        "        \"\"\"\n",
        "        :rtype: int\n",
        "        \"\"\"\n",
        "        return self.trackmin[-1]\n",
        "\n",
        "\n",
        "# Your MinStack object will be instantiated and called as such:\n",
        "# obj = MinStack()\n",
        "# obj.push(val)\n",
        "# obj.pop()\n",
        "# param_3 = obj.top()\n",
        "# param_4 = obj.getMin()"
      ]
    },
    {
      "cell_type": "markdown",
      "metadata": {},
      "source": [
        "[150. Evaluate Reverse Polish Notation](https://leetcode.com/problems/evaluate-reverse-polish-notation/description/)"
      ]
    },
    {
      "cell_type": "code",
      "execution_count": null,
      "metadata": {},
      "outputs": [],
      "source": [
        "class Solution(object):\n",
        "    def evalRPN(self, tokens):\n",
        "        \"\"\"\n",
        "        :type tokens: List[str]\n",
        "        :rtype: int\n",
        "        \"\"\"\n",
        "\n",
        "        # JL solution:\n",
        "        operations = {\n",
        "            \"+\": lambda a, b: a + b,\n",
        "            \"-\": lambda a, b: a - b,\n",
        "            \"*\": lambda a, b: a * b,\n",
        "            # this is to make sure if the result > 0, it takes Math.floor\n",
        "            # if the result < 0, it takes Math.ceil\n",
        "            \"/\": lambda a, b: int(float(a) / float(b)) \n",
        "        }\n",
        "        numbers_stack = []\n",
        "\n",
        "        for token in tokens:\n",
        "            if token not in operations:\n",
        "                numbers_stack.append(int(token))\n",
        "            else:\n",
        "                second_operand = numbers_stack.pop()\n",
        "                first_operand = numbers_stack.pop()\n",
        "                calculated_result = operations[token](first_operand, second_operand)\n",
        "                numbers_stack.append(calculated_result)\n",
        "        return numbers_stack[0]"
      ]
    },
    {
      "cell_type": "markdown",
      "metadata": {},
      "source": [
        "[22. Generate Parentheses\n",
        "](https://leetcode.com/problems/generate-parentheses/)"
      ]
    },
    {
      "cell_type": "code",
      "execution_count": null,
      "metadata": {},
      "outputs": [],
      "source": [
        "class Solution:\n",
        "    def generateParenthesis(self, n):\n",
        "        res = []\n",
        "        def backtrack(openBracketCount, closedBracketCount, string):\n",
        "            if openBracketCount == closedBracketCount == n:\n",
        "                res.append(string)\n",
        "                return\n",
        "            if openBracketCount < n:\n",
        "                backtrack(openBracketCount + 1, closedBracketCount, string + \"(\")\n",
        "            if closedBracketCount < openBracketCount:\n",
        "                backtrack(openBracketCount, closedBracketCount + 1, string + \")\")\n",
        "        backtrack(0, 0, \"\")\n",
        "        return res\n"
      ]
    }
  ],
  "metadata": {
    "colab": {
      "provenance": []
    },
    "kernelspec": {
      "display_name": "Python 3",
      "name": "python3"
    },
    "language_info": {
      "name": "python"
    }
  },
  "nbformat": 4,
  "nbformat_minor": 0
}
